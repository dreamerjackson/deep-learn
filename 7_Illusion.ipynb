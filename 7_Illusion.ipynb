{
 "cells": [
  {
   "cell_type": "code",
   "execution_count": 4,
   "id": "54a0495d-5ab1-4274-a762-a617effebf8b",
   "metadata": {},
   "outputs": [],
   "source": [
    "# 导入模块\n",
    "import os # 用于操作系统的交互，例如获取环境变量。\n",
    "import openai # OpenAI 的官方库，用于与 OpenAI 服务进行交互。\n",
    "from dotenv import load_dotenv, find_dotenv\n",
    "_ = load_dotenv(find_dotenv()) # read local .env file\n",
    "\n",
    "openai.api_key  = os.environ['OPENAI_API_KEY'] # 从环境变量中获取 OPENAI_API_KEY 作为 API 密钥。\n",
    "openai.api_type = \"azure\"\n",
    "openai.api_base = \"https://zjx.openai.azure.com/\"\n",
    "openai.api_version = \"2023-05-15\""
   ]
  },
  {
   "cell_type": "code",
   "execution_count": 5,
   "id": "51b51da4-44b0-4285-a3fd-220b5960d0ab",
   "metadata": {},
   "outputs": [],
   "source": [
    "# 定义了一个名为 get_completion 的函数，其主要目的是使用 OpenAI 的 API 为给定的 prompt 获取模型的回复\n",
    "def get_completion(prompt):\n",
    "    # messages 是一个列表，其中包含一个字典，这个字典定义了一个用户角色和他们的消息内容。\n",
    "    # 这是 OpenAI 的 Chat API 接受的格式，它允许多次交互（例如，先由用户发送消息，然后由模型回复，然后再由用户发送消息，等等）\n",
    "    messages = [{\"role\": \"user\", \"content\": prompt}] \n",
    "    # 使用 try 和 except 来尝试执行某些代码，并在出现异常时捕获该异常。\n",
    "    try:\n",
    "        response = openai.ChatCompletion.create(\n",
    "            engine=\"gpt35\",  # 指定使用哪个模型。在这里，它是 \"gpt35\"。\n",
    "            messages=messages,\n",
    "            temperature=0, # 控制输出随机性的参数。值为 0 表示模型会产生最确定性的输出；较高的值（例如 1.0）会产生更多的随机性。\n",
    "        )\n",
    "        return response.choices[0].message[\"content\"] # 从模型的响应中获取其消息内容并返回。\n",
    "    except Exception as e:\n",
    "        print(f\"Error: {e}\")\n",
    "        return None"
   ]
  },
  {
   "cell_type": "code",
   "execution_count": 6,
   "id": "80f760b9-26a0-48d6-bc81-3c13f06df709",
   "metadata": {},
   "outputs": [],
   "source": [
    "## 在这里，max_tokens主要限制的是输出的令牌数量，也就是模型生成的内容的最大长度。\n",
    "def get_completion_from_messages(messages, \n",
    "                                 max_tokens=500):\n",
    "    try:\n",
    "        response = openai.ChatCompletion.create(\n",
    "            max_tokens=max_tokens,\n",
    "            engine=\"gpt35\",\n",
    "            messages=messages,\n",
    "            temperature=0,\n",
    "        )\n",
    "    except Exception as e:\n",
    "        print(f\"Error: {e}\")\n",
    "    return response.choices[0].message[\"content\"]"
   ]
  },
  {
   "cell_type": "code",
   "execution_count": 10,
   "id": "03ea034e-fc1c-45ee-b7da-af9cd78069e1",
   "metadata": {},
   "outputs": [
    {
     "name": "stdout",
     "output_type": "stream",
     "text": [
      "\"火星，被称为红色行星，有着薄薄的大气层和冰冻的水。\" 根据这句话，火星上有冰冻的水，但没有明确提到液态水的存在。\n"
     ]
    }
   ],
   "source": [
    "# 模型的局限性,即使模型在其训练过程中接触了大量的知识，它也没有完美地记住它所看到的信息。\n",
    "# 这意味着它可能会尝试回答一些关于不常见主题的问题，并可能编造出听起来合理但实际上不真实的答案。\n",
    "# 这种情况被称为“幻觉”。\n",
    "# 为了减少幻觉，可以要求模型首先从文本中找到任何相关的引文，然后使用这些引文来回答问题。\n",
    "\n",
    "user_message = f\"\"\"\n",
    "太阳系简介\n",
    "\n",
    "太阳系由一个中心恒星——太阳和围绕其旋转的八大行星组成。\n",
    "最靠近太阳的是水星，一个炎热的、没有大气层的小行星。接下来是金星，一个有着浓厚大气层和火山活动的行星。\n",
    "地球是第三颗行星，是我们的家园，拥有丰富的生命和水资源。火星，被称为红色行星，有着薄薄的大气层和冰冻的水。然后是巨大的木星，拥有最多的卫星。\n",
    "紧随其后的是带有显著的环的土星。天王星和海王星是两颗冰冷的巨大气态行星，位于太阳系的边缘。\n",
    "\n",
    "请从文章中找到与火星和水相关的任何引文，然后根据上述引文，火星上有水吗？\n",
    "\n",
    "\"\"\"\n",
    "\n",
    "messages =  [   \n",
    "{'role':'user', \n",
    " 'content': f\"{user_message}\"},  \n",
    "] \n",
    "\n",
    "response = get_completion_from_messages(messages)\n",
    "print(response)"
   ]
  },
  {
   "cell_type": "code",
   "execution_count": null,
   "id": "4842fd39-1c96-408e-b7fb-332982893bab",
   "metadata": {},
   "outputs": [],
   "source": []
  }
 ],
 "metadata": {
  "kernelspec": {
   "display_name": "Python 3 (ipykernel)",
   "language": "python",
   "name": "python3"
  },
  "language_info": {
   "codemirror_mode": {
    "name": "ipython",
    "version": 3
   },
   "file_extension": ".py",
   "mimetype": "text/x-python",
   "name": "python",
   "nbconvert_exporter": "python",
   "pygments_lexer": "ipython3",
   "version": "3.11.4"
  }
 },
 "nbformat": 4,
 "nbformat_minor": 5
}
