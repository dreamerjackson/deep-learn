{
 "cells": [
  {
   "cell_type": "code",
   "execution_count": 1,
   "id": "54a0495d-5ab1-4274-a762-a617effebf8b",
   "metadata": {},
   "outputs": [],
   "source": [
    "# 导入模块\n",
    "import os # 用于操作系统的交互，例如获取环境变量。\n",
    "import openai # OpenAI 的官方库，用于与 OpenAI 服务进行交互。\n",
    "from dotenv import load_dotenv, find_dotenv\n",
    "_ = load_dotenv(find_dotenv()) # read local .env file\n",
    "\n",
    "openai.api_key  = os.environ['OPENAI_API_KEY'] # 从环境变量中获取 OPENAI_API_KEY 作为 API 密钥。\n",
    "openai.api_type = \"azure\"\n",
    "openai.api_base = \"https://zjx.openai.azure.com/\"\n",
    "openai.api_version = \"2023-05-15\""
   ]
  },
  {
   "cell_type": "code",
   "execution_count": 2,
   "id": "51b51da4-44b0-4285-a3fd-220b5960d0ab",
   "metadata": {},
   "outputs": [],
   "source": [
    "# 定义了一个名为 get_completion 的函数，其主要目的是使用 OpenAI 的 API 为给定的 prompt 获取模型的回复\n",
    "def get_completion(prompt):\n",
    "    # messages 是一个列表，其中包含一个字典，这个字典定义了一个用户角色和他们的消息内容。\n",
    "    # 这是 OpenAI 的 Chat API 接受的格式，它允许多次交互（例如，先由用户发送消息，然后由模型回复，然后再由用户发送消息，等等）\n",
    "    messages = [{\"role\": \"user\", \"content\": prompt}] \n",
    "    # 使用 try 和 except 来尝试执行某些代码，并在出现异常时捕获该异常。\n",
    "    try:\n",
    "        response = openai.ChatCompletion.create(\n",
    "            engine=\"gpt35\",  # 指定使用哪个模型。在这里，它是 \"gpt35\"。\n",
    "            messages=messages,\n",
    "            temperature=0, # 控制输出随机性的参数。值为 0 表示模型会产生最确定性的输出；较高的值（例如 1.0）会产生更多的随机性。\n",
    "        )\n",
    "        return response.choices[0].message[\"content\"] # 从模型的响应中获取其消息内容并返回。\n",
    "    except Exception as e:\n",
    "        print(f\"Error: {e}\")\n",
    "        return None"
   ]
  },
  {
   "cell_type": "code",
   "execution_count": 3,
   "id": "80f760b9-26a0-48d6-bc81-3c13f06df709",
   "metadata": {},
   "outputs": [],
   "source": [
    "## 在这里，max_tokens主要限制的是输出的令牌数量，也就是模型生成的内容的最大长度。\n",
    "def get_completion_from_messages(messages, \n",
    "                                 max_tokens=500):\n",
    "    response = openai.ChatCompletion.create(\n",
    "        max_tokens=max_tokens,\n",
    "        engine=\"gpt35\",\n",
    "        messages=messages,\n",
    "        temperature=0,\n",
    "    )\n",
    "    return response.choices[0].message[\"content\"]"
   ]
  },
  {
   "cell_type": "code",
   "execution_count": 4,
   "id": "561075ce-7124-4dc2-86a1-84f8cb91b96f",
   "metadata": {},
   "outputs": [
    {
     "name": "stdout",
     "output_type": "stream",
     "text": [
      "{\n",
      "    \"primary\": \"账户管理\",\n",
      "    \"secondary\": \"关闭账户\"\n",
      "}\n"
     ]
    }
   ],
   "source": [
    "# 分类 & 结构化输出\n",
    "\n",
    "delimiter = \"####\"\n",
    "system_message = f\"\"\"\n",
    "您将收到客户服务查询。\\\n",
    "每个客户服务查询都将用 \\\n",
    "{delimiter} 字符进行分隔。\n",
    "请将每个查询分类为一个主类别 \\\n",
    "和一个次类别。\n",
    "请以 json 格式提供您的输出，使用 \\\n",
    "的键为：primary 和 secondary。\n",
    "\n",
    "主类别：账单、技术支持、\\\n",
    "账户管理或一般咨询。\n",
    "\n",
    "账单次类别：\n",
    "退订或升级\n",
    "添加付款方式\n",
    "费用说明\n",
    "争议费用\n",
    "\n",
    "技术支持次类别：\n",
    "常规故障排除\n",
    "设备兼容性\n",
    "软件更新\n",
    "\n",
    "账户管理次类别：\n",
    "密码重置\n",
    "更新个人信息\n",
    "关闭账户\n",
    "账户安全\n",
    "\n",
    "一般咨询次类别：\n",
    "产品信息\n",
    "定价\n",
    "反馈\n",
    "与人沟通\n",
    "\"\"\"\n",
    "\n",
    "user_message = f\"\"\"\\\n",
    "我希望您删除我的个人资料和所有用户数据\"\"\"\n",
    "\n",
    "messages =  [  \n",
    "{'role':'system', \n",
    " 'content': system_message},    \n",
    "{'role':'user', \n",
    " 'content': f\"{delimiter}{user_message}{delimiter}\"},  \n",
    "] \n",
    "response = get_completion_from_messages(messages)\n",
    "print(response)\n"
   ]
  },
  {
   "cell_type": "code",
   "execution_count": null,
   "id": "d2a1eca2-6909-42d9-b400-017f2a8f9cbc",
   "metadata": {},
   "outputs": [],
   "source": []
  }
 ],
 "metadata": {
  "kernelspec": {
   "display_name": "Python 3 (ipykernel)",
   "language": "python",
   "name": "python3"
  },
  "language_info": {
   "codemirror_mode": {
    "name": "ipython",
    "version": 3
   },
   "file_extension": ".py",
   "mimetype": "text/x-python",
   "name": "python",
   "nbconvert_exporter": "python",
   "pygments_lexer": "ipython3",
   "version": "3.11.4"
  }
 },
 "nbformat": 4,
 "nbformat_minor": 5
}
