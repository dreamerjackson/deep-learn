{
 "cells": [
  {
   "cell_type": "code",
   "execution_count": 5,
   "id": "54a0495d-5ab1-4274-a762-a617effebf8b",
   "metadata": {},
   "outputs": [],
   "source": [
    "# 导入模块\n",
    "import os # 用于操作系统的交互，例如获取环境变量。\n",
    "import openai # OpenAI 的官方库，用于与 OpenAI 服务进行交互。\n",
    "from dotenv import load_dotenv, find_dotenv\n",
    "_ = load_dotenv(find_dotenv()) # read local .env file\n",
    "\n",
    "openai.api_key  = os.environ['OPENAI_API_KEY'] # 从环境变量中获取 OPENAI_API_KEY 作为 API 密钥。\n",
    "openai.api_type = \"azure\"\n",
    "openai.api_base = \"https://zjx.openai.azure.com/\"\n",
    "openai.api_version = \"2023-05-15\""
   ]
  },
  {
   "cell_type": "code",
   "execution_count": 6,
   "id": "51b51da4-44b0-4285-a3fd-220b5960d0ab",
   "metadata": {},
   "outputs": [],
   "source": [
    "# 定义了一个名为 get_completion 的函数，其主要目的是使用 OpenAI 的 API 为给定的 prompt 获取模型的回复\n",
    "def get_completion(prompt):\n",
    "    # messages 是一个列表，其中包含一个字典，这个字典定义了一个用户角色和他们的消息内容。\n",
    "    # 这是 OpenAI 的 Chat API 接受的格式，它允许多次交互（例如，先由用户发送消息，然后由模型回复，然后再由用户发送消息，等等）\n",
    "    messages = [{\"role\": \"user\", \"content\": prompt}] \n",
    "    # 使用 try 和 except 来尝试执行某些代码，并在出现异常时捕获该异常。\n",
    "    try:\n",
    "        response = openai.ChatCompletion.create(\n",
    "            engine=\"gpt35\",  # 指定使用哪个模型。在这里，它是 \"gpt35\"。\n",
    "            messages=messages,\n",
    "            temperature=0, # 控制输出随机性的参数。值为 0 表示模型会产生最确定性的输出；较高的值（例如 1.0）会产生更多的随机性。\n",
    "        )\n",
    "        return response.choices[0].message[\"content\"] # 从模型的响应中获取其消息内容并返回。\n",
    "    except Exception as e:\n",
    "        print(f\"Error: {e}\")\n",
    "        return None"
   ]
  },
  {
   "cell_type": "code",
   "execution_count": 7,
   "id": "56facb1e-6598-494f-b017-9c1876e1e2f7",
   "metadata": {},
   "outputs": [
    {
     "name": "stdout",
     "output_type": "stream",
     "text": [
      "The capital of France is Paris.\n"
     ]
    }
   ],
   "source": [
    "response = get_completion(\"What is the capital of France?\")\n",
    "print(response)"
   ]
  },
  {
   "cell_type": "code",
   "execution_count": 8,
   "id": "d49585f4-a39b-487a-8ba8-4f458b7d1bf7",
   "metadata": {},
   "outputs": [
    {
     "name": "stdout",
     "output_type": "stream",
     "text": [
      "作为AI语言模型，我可以给你一些建议：\n",
      "\n",
      "1. 学习基础数学知识，包括线性代数、微积分、概率论等。\n",
      "\n",
      "2. 学习编程语言，如Python、Java等，掌握基本的编程技能。\n",
      "\n",
      "3. 学习机器学习和深度学习的基本概念和算法，如回归、分类、聚类、神经网络等。\n",
      "\n",
      "4. 参加在线课程和培训班，如Coursera、Udacity等，学习AI的理论和实践。\n",
      "\n",
      "5. 参加AI竞赛和项目，如Kaggle、TensorFlow等，锻炼实战能力。\n",
      "\n",
      "6. 阅读相关的书籍和论文，了解最新的AI技术和研究进展。\n",
      "\n",
      "7. 加入AI社区和论坛，与其他AI爱好者交流和分享经验。\n",
      "\n",
      "8. 不断实践和探索，不断提高自己的技能和能力。\n"
     ]
    }
   ],
   "source": [
    "response = get_completion(\"如何学习AI\")\n",
    "print(response)"
   ]
  },
  {
   "cell_type": "code",
   "execution_count": null,
   "id": "f3ec73b2-ff47-459c-963f-96c2c2645f3f",
   "metadata": {},
   "outputs": [],
   "source": [
    "response = get_completion(\"Take the letters in lollipop \\\n",
    "and reverse them\")\n",
    "print(response)"
   ]
  },
  {
   "cell_type": "code",
   "execution_count": null,
   "id": "58580fd3-64c2-44e7-8b92-31cbd233e2ce",
   "metadata": {},
   "outputs": [],
   "source": [
    "response = get_completion(\"\"\"Take the letters in \\\n",
    "l-o-l-l-i-p-o-p and reverse them\"\"\")\n",
    "print(response)"
   ]
  },
  {
   "cell_type": "code",
   "execution_count": null,
   "id": "80f760b9-26a0-48d6-bc81-3c13f06df709",
   "metadata": {},
   "outputs": [],
   "source": [
    "## 在这里，max_tokens主要限制的是输出的令牌数量，也就是模型生成的内容的最大长度。\n",
    "def get_completion_from_messages(messages, \n",
    "                                 max_tokens=500):\n",
    "    response = openai.ChatCompletion.create(\n",
    "        max_tokens=max_tokens,\n",
    "        engine=\"gpt35\",\n",
    "        messages=messages,\n",
    "        temperature=0,\n",
    "    )\n",
    "    return response.choices[0].message[\"content\"]"
   ]
  }
 ],
 "metadata": {
  "kernelspec": {
   "display_name": "Python 3 (ipykernel)",
   "language": "python",
   "name": "python3"
  },
  "language_info": {
   "codemirror_mode": {
    "name": "ipython",
    "version": 3
   },
   "file_extension": ".py",
   "mimetype": "text/x-python",
   "name": "python",
   "nbconvert_exporter": "python",
   "pygments_lexer": "ipython3",
   "version": "3.11.4"
  }
 },
 "nbformat": 4,
 "nbformat_minor": 5
}
