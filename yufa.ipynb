{
 "cells": [
  {
   "cell_type": "code",
   "execution_count": 28,
   "id": "885e4875-c70a-4995-9a8f-6d7fa4e3cf94",
   "metadata": {},
   "outputs": [
    {
     "name": "stdout",
     "output_type": "stream",
     "text": [
      "You can't divide by zero!\n",
      "This will always run.\n",
      "------\n",
      "An error occurred: invalid literal for int() with base 10: 'string'\n",
      "------\n",
      "Value is too low! Passed value: 5\n"
     ]
    }
   ],
   "source": [
    "# 基本使用\n",
    "try:\n",
    "    # 尝试执行的代码块\n",
    "    result = 10 / 0\n",
    "except ZeroDivisionError:\n",
    "    # 当出现 ZeroDivisionError 时执行的代码块\n",
    "    print(\"You can't divide by zero!\")\n",
    "finally:\n",
    "    # 无论是否出现异常，都会执行的代码块\n",
    "    print(\"This will always run.\")\n",
    "\n",
    "print(\"------\")\n",
    "\n",
    "# 捕获多种异常\n",
    "try:\n",
    "    # 尝试执行的代码块\n",
    "    number = int(\"string\")\n",
    "    result = 10 / number\n",
    "except (ZeroDivisionError, ValueError) as e:\n",
    "    # 当出现 ZeroDivisionError 或 ValueError 时执行的代码块\n",
    "    print(f\"An error occurred: {e}\")\n",
    "\n",
    "print(\"------\")\n",
    "\n",
    "# 定义自己的异常类\n",
    "class ValueTooHighError(Exception):\n",
    "    pass\n",
    "\n",
    "class ValueTooLowError(Exception):\n",
    "    def __init__(self, value, message=\"Value is too low!\"):\n",
    "        self.value = value\n",
    "        self.message = message\n",
    "        super().__init__(self.message)\n",
    "\n",
    "try:\n",
    "    number = 5\n",
    "    if number > 10:\n",
    "        raise ValueTooHighError(\"Value is too high!\")\n",
    "    elif number < 10:\n",
    "        raise ValueTooLowError(number)\n",
    "except ValueTooHighError as e:\n",
    "    print(e)\n",
    "except ValueTooLowError as e:\n",
    "    print(f\"{e.message} Passed value: {e.value}\")\n"
   ]
  },
  {
   "cell_type": "code",
   "execution_count": 20,
   "id": "a9c94834-f636-43f5-8544-a7dda7dcf706",
   "metadata": {},
   "outputs": [
    {
     "name": "stdout",
     "output_type": "stream",
     "text": [
      "0\n",
      "1\n",
      "2\n",
      "4\n"
     ]
    }
   ],
   "source": [
    "for i in range(5):\n",
    "    if  i== 3:\n",
    "        pass\n",
    "    else:\n",
    "        print(i)"
   ]
  },
  {
   "cell_type": "code",
   "execution_count": 27,
   "id": "17ddd84e-13ea-4abe-8323-dc8958c69998",
   "metadata": {},
   "outputs": [
    {
     "name": "stdout",
     "output_type": "stream",
     "text": [
      "4\n",
      "[1, 2, 3, 4]\n",
      "4\n",
      "1\n",
      "Hello, World!\n"
     ]
    },
    {
     "name": "stdin",
     "output_type": "stream",
     "text": [
      "Enter your name:  123\n"
     ]
    },
    {
     "name": "stdout",
     "output_type": "stream",
     "text": [
      "Hello, 123!\n"
     ]
    }
   ],
   "source": [
    "my_list = [1, 2, 3, 4]\n",
    "print(len(my_list))  # 输出: 4\n",
    "\n",
    "my_list = [3, 1, 4, 2]\n",
    "print(sorted(my_list))  # 输出: [1, 2, 3, 4]\n",
    "\n",
    "print(max(my_list))  # 输出: 4\n",
    "print(min(my_list))  # 输出: 1\n",
    "\n",
    "print(\"Hello, World!\")  # 输出: Hello, World!\n",
    "\n",
    "name = input(\"Enter your name: \")\n",
    "print(f\"Hello, {name}!\")  # 如果输入 \"Fiona\", 输出: Hello, Fiona!"
   ]
  },
  {
   "cell_type": "code",
   "execution_count": null,
   "id": "c5954fd5-226a-42df-bede-ec0c87f73b22",
   "metadata": {},
   "outputs": [],
   "source": []
  },
  {
   "cell_type": "code",
   "execution_count": null,
   "id": "10dcfbfe-7ebe-42e9-8c73-be61d8f261ec",
   "metadata": {},
   "outputs": [],
   "source": []
  },
  {
   "cell_type": "code",
   "execution_count": null,
   "id": "71ee2e2f-433c-434d-9882-774c559355af",
   "metadata": {},
   "outputs": [],
   "source": []
  },
  {
   "cell_type": "code",
   "execution_count": 1,
   "id": "d114ecf2-3772-4df8-a3f0-97deb657dc6a",
   "metadata": {},
   "outputs": [
    {
     "name": "stdout",
     "output_type": "stream",
     "text": [
      "Current Directory: /Users/jackson/Downloads/python-ai-lesson\n",
      "Files in Directory: ['yufa.ipynb', 'Azure.ipynb', '__pycache__', 'utils.py', '1.ipynb', '.env', 'debug.log', 'products.json', '.ipynb_checkpoints']\n",
      "Python Path: /usr/local/Cellar/jupyterlab/4.0.5/libexec/bin/python\n",
      "Command Line Args: ['/usr/local/Cellar/jupyterlab/4.0.5/libexec/lib/python3.11/site-packages/ipykernel_launcher.py', '-f', '/Users/jackson/Library/Jupyter/runtime/kernel-11e47b48-4058-446b-bf3e-5257610c1be3.json']\n",
      "Current Time: 2023-09-13 18:06:17.649295\n",
      "Square Root of 16: 4.0\n",
      "JSON String: {\"name\": \"John\", \"age\": 30}\n",
      "Data from JSON: {'name': 'John', 'age': 30}\n",
      "NumPy Array: [1 2 3 4 5]\n",
      "Pandas DataFrame:\n",
      "    A  B\n",
      "0  1  4\n",
      "1  2  5\n",
      "2  3  6\n"
     ]
    },
    {
     "data": {
      "image/png": "[encoded data removed]",
      "text/plain": [
       "<Figure size 640x480 with 1 Axes>"
      ]
     },
     "metadata": {},
     "output_type": "display_data"
    },
    {
     "name": "stdout",
     "output_type": "stream",
     "text": [
      "Classifier Score: 0.9333333333333333\n"
     ]
    }
   ],
   "source": [
    "# 常用标准库\n",
    "\n",
    "import os\n",
    "import sys\n",
    "from datetime import datetime\n",
    "import math\n",
    "import json\n",
    "\n",
    "# os - 操作系统相关功能\n",
    "cwd = os.getcwd()\n",
    "print(\"Current Directory:\", cwd)\n",
    "print(\"Files in Directory:\", os.listdir(cwd))\n",
    "\n",
    "# sys - 访问 Python 解释器的变量和与解释器交互\n",
    "print(\"Python Path:\", sys.executable)\n",
    "print(\"Command Line Args:\", sys.argv)\n",
    "\n",
    "# datetime - 日期和时间操作\n",
    "now = datetime.now()\n",
    "print(\"Current Time:\", now)\n",
    "\n",
    "# math - 数学函数\n",
    "print(\"Square Root of 16:\", math.sqrt(16))\n",
    "\n",
    "# json - JSON 数据的编码和解码\n",
    "data = {\"name\": \"John\", \"age\": 30}\n",
    "json_str = json.dumps(data)\n",
    "print(\"JSON String:\", json_str)\n",
    "data_from_json = json.loads(json_str)\n",
    "print(\"Data from JSON:\", data_from_json)\n",
    "\n",
    "# 与 AI 相关的库\n",
    "\n",
    "# Note: 这些库需要先安装，例如使用 pip install numpy pandas matplotlib scikit-learn\n",
    "\n",
    "import numpy as np\n",
    "import pandas as pd\n",
    "import matplotlib.pyplot as plt\n",
    "from sklearn.datasets import load_iris\n",
    "from sklearn.model_selection import train_test_split\n",
    "from sklearn.tree import DecisionTreeClassifier\n",
    "\n",
    "# NumPy\n",
    "arr = np.array([1, 2, 3, 4, 5])\n",
    "print(\"NumPy Array:\", arr)\n",
    "\n",
    "# Pandas\n",
    "df = pd.DataFrame({\n",
    "    'A': [1, 2, 3],\n",
    "    'B': [4, 5, 6]\n",
    "})\n",
    "print(\"Pandas DataFrame:\\n\", df)\n",
    "\n",
    "# Matplotlib\n",
    "x = [1, 2, 3, 4, 5]\n",
    "y = [1, 4, 9, 16, 25]\n",
    "plt.plot(x, y)\n",
    "plt.show()\n",
    "\n",
    "# Scikit-learn\n",
    "iris = load_iris()\n",
    "X_train, X_test, y_train, y_test = train_test_split(iris.data, iris.target, test_size=0.2)\n",
    "clf = DecisionTreeClassifier()\n",
    "clf.fit(X_train, y_train)\n",
    "print(\"Classifier Score:\", clf.score(X_test, y_test))\n"
   ]
  },
  {
   "cell_type": "code",
   "execution_count": null,
   "id": "552e649d-7c96-4e17-b622-a8af2a10d482",
   "metadata": {},
   "outputs": [],
   "source": []
  },
  {
   "cell_type": "code",
   "execution_count": 1,
   "id": "7c1aaba6-7378-4e93-bb64-b1cd2da11e08",
   "metadata": {},
   "outputs": [
    {
     "name": "stdout",
     "output_type": "stream",
     "text": [
      "/usr/local/Cellar/jupyterlab/4.0.5/libexec/bin/python\n"
     ]
    }
   ],
   "source": [
    "import sys\n",
    "print(sys.executable)"
   ]
  },
  {
   "cell_type": "code",
   "execution_count": 2,
   "id": "159a8fb1-a474-4c7d-8a78-12f1d3ae43ed",
   "metadata": {},
   "outputs": [
    {
     "name": "stdout",
     "output_type": "stream",
     "text": [
      "\u001b[33mWARNING: Skipping /usr/local/lib/python3.11/site-packages/certifi-2023.7.22-py3.11.egg-info due to invalid metadata entry 'name'\u001b[0m\u001b[33m\n",
      "\u001b[0mCollecting scikit-learn\n",
      "  Downloading scikit_learn-1.3.0-cp311-cp311-macosx_10_9_x86_64.whl (10.1 MB)\n",
      "\u001b[2K     \u001b[38;2;114;156;31m━━━━━━━━━━━━━━━━━━━━━━━━━━━━━━━━━━━━━━━━\u001b[0m \u001b[32m10.1/10.1 MB\u001b[0m \u001b[31m1.3 MB/s\u001b[0m eta \u001b[36m0:00:00\u001b[0mm eta \u001b[36m0:00:01\u001b[0m36m0:00:01\u001b[0m0m\n",
      "\u001b[?25hRequirement already satisfied: numpy>=1.17.3 in /usr/local/lib/python3.11/site-packages (from scikit-learn) (1.25.2)\n",
      "Collecting scipy>=1.5.0\n",
      "  Downloading scipy-1.11.2-cp311-cp311-macosx_10_9_x86_64.whl (37.0 MB)\n",
      "\u001b[2K     \u001b[38;2;114;156;31m━━━━━━━━━━━━━━━━━━━━━━━━━━━━━━━━━━━━━━━━\u001b[0m \u001b[32m37.0/37.0 MB\u001b[0m \u001b[31m1.4 MB/s\u001b[0m eta \u001b[36m0:00:00\u001b[0mm eta \u001b[36m0:00:01\u001b[0m[36m0:00:01\u001b[0m\n",
      "\u001b[?25hCollecting joblib>=1.1.1\n",
      "  Downloading joblib-1.3.2-py3-none-any.whl (302 kB)\n",
      "\u001b[2K     \u001b[38;2;114;156;31m━━━━━━━━━━━━━━━━━━━━━━━━━━━━━━━━━━━━━━━\u001b[0m \u001b[32m302.2/302.2 kB\u001b[0m \u001b[31m1.4 MB/s\u001b[0m eta \u001b[36m0:00:00\u001b[0m[36m0:00:01\u001b[0m[36m0:00:01\u001b[0m:01\u001b[0m\n",
      "\u001b[?25hCollecting threadpoolctl>=2.0.0\n",
      "  Downloading threadpoolctl-3.2.0-py3-none-any.whl (15 kB)\n",
      "\u001b[33mWARNING: Skipping /usr/local/lib/python3.11/site-packages/certifi-2023.7.22-py3.11.egg-info due to invalid metadata entry 'name'\u001b[0m\u001b[33m\n",
      "\u001b[0mInstalling collected packages: threadpoolctl, scipy, joblib, scikit-learn\n",
      "Successfully installed joblib-1.3.2 scikit-learn-1.3.0 scipy-1.11.2 threadpoolctl-3.2.0\n",
      "\n",
      "\u001b[1m[\u001b[0m\u001b[34;49mnotice\u001b[0m\u001b[1;39;49m]\u001b[0m\u001b[39;49m A new release of pip is available: \u001b[0m\u001b[31;49m23.0.1\u001b[0m\u001b[39;49m -> \u001b[0m\u001b[32;49m23.2.1\u001b[0m\n",
      "\u001b[1m[\u001b[0m\u001b[34;49mnotice\u001b[0m\u001b[1;39;49m]\u001b[0m\u001b[39;49m To update, run: \u001b[0m\u001b[32;49m/usr/local/Cellar/jupyterlab/4.0.5/libexec/bin/python -m pip install --upgrade pip\u001b[0m\n"
     ]
    }
   ],
   "source": [
    "!{sys.executable} -m pip install scikit-learn"
   ]
  },
  {
   "cell_type": "code",
   "execution_count": 2,
   "id": "f6f37cbb-8a48-4698-8da2-c516577b8388",
   "metadata": {},
   "outputs": [
    {
     "name": "stdout",
     "output_type": "stream",
     "text": [
      "Python 3.11.4\n"
     ]
    }
   ],
   "source": [
    "!{sys.executable} --version"
   ]
  },
  {
   "cell_type": "code",
   "execution_count": null,
   "id": "3a9c9a07-dcdf-451a-9d0f-0b0a382683ee",
   "metadata": {},
   "outputs": [],
   "source": []
  }
 ],
 "metadata": {
  "kernelspec": {
   "display_name": "Python 3 (ipykernel)",
   "language": "python",
   "name": "python3"
  },
  "language_info": {
   "codemirror_mode": {
    "name": "ipython",
    "version": 3
   },
   "file_extension": ".py",
   "mimetype": "text/x-python",
   "name": "python",
   "nbconvert_exporter": "python",
   "pygments_lexer": "ipython3",
   "version": "3.11.4"
  }
 },
 "nbformat": 4,
 "nbformat_minor": 5
}
