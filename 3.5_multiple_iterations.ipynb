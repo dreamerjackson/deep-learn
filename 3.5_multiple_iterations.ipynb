{
 "cells": [
  {
   "cell_type": "code",
   "execution_count": 9,
   "id": "54a0495d-5ab1-4274-a762-a617effebf8b",
   "metadata": {},
   "outputs": [],
   "source": [
    "# 导入模块\n",
    "import os # 用于操作系统的交互，例如获取环境变量。\n",
    "import openai # OpenAI 的官方库，用于与 OpenAI 服务进行交互。\n",
    "from dotenv import load_dotenv, find_dotenv\n",
    "_ = load_dotenv(find_dotenv()) # read local .env file\n",
    "\n",
    "openai.api_key  = os.environ['OPENAI_API_KEY'] # 从环境变量中获取 OPENAI_API_KEY 作为 API 密钥。\n",
    "openai.api_type = \"azure\"\n",
    "openai.api_base = \"https://zjx.openai.azure.com/\"\n",
    "openai.api_version = \"2023-05-15\""
   ]
  },
  {
   "cell_type": "code",
   "execution_count": 10,
   "id": "51b51da4-44b0-4285-a3fd-220b5960d0ab",
   "metadata": {},
   "outputs": [],
   "source": [
    "# 定义了一个名为 get_completion 的函数，其主要目的是使用 OpenAI 的 API 为给定的 prompt 获取模型的回复\n",
    "def get_completion(prompt):\n",
    "    # messages 是一个列表，其中包含一个字典，这个字典定义了一个用户角色和他们的消息内容。\n",
    "    # 这是 OpenAI 的 Chat API 接受的格式，它允许多次交互（例如，先由用户发送消息，然后由模型回复，然后再由用户发送消息，等等）\n",
    "    messages = [{\"role\": \"user\", \"content\": prompt}] \n",
    "    # 使用 try 和 except 来尝试执行某些代码，并在出现异常时捕获该异常。\n",
    "    try:\n",
    "        response = openai.ChatCompletion.create(\n",
    "            engine=\"gpt35\",  # 指定使用哪个模型。在这里，它是 \"gpt35\"。\n",
    "            messages=messages,\n",
    "            temperature=0, # 控制输出随机性的参数。值为 0 表示模型会产生最确定性的输出；较高的值（例如 1.0）会产生更多的随机性。\n",
    "        )\n",
    "        return response.choices[0].message[\"content\"] # 从模型的响应中获取其消息内容并返回。\n",
    "    except Exception as e:\n",
    "        print(f\"Error: {e}\")\n",
    "        return None"
   ]
  },
  {
   "cell_type": "code",
   "execution_count": 11,
   "id": "80f760b9-26a0-48d6-bc81-3c13f06df709",
   "metadata": {},
   "outputs": [],
   "source": [
    "## 在这里，max_tokens主要限制的是输出的令牌数量，也就是模型生成的内容的最大长度。\n",
    "def get_completion_from_messages(messages, \n",
    "                                 max_tokens=500):\n",
    "    try:\n",
    "        response = openai.ChatCompletion.create(\n",
    "            max_tokens=max_tokens,\n",
    "            engine=\"gpt35\",\n",
    "            messages=messages,\n",
    "            temperature=0,\n",
    "        )\n",
    "    except Exception as e:\n",
    "        print(f\"Error: {e}\")\n",
    "    return response.choices[0].message[\"content\"]"
   ]
  },
  {
   "cell_type": "code",
   "execution_count": 14,
   "id": "3bc6dec7-63ff-432b-a255-e8c2cafd37c4",
   "metadata": {},
   "outputs": [
    {
     "name": "stdout",
     "output_type": "stream",
     "text": [
      "这个苹果是红色的，表面光滑，没有任何瑕疵。它的形状圆润，大小适中，重量适中。当你拿起它时，可以感受到它的重量和坚实感。当你闻一闻它时，可以闻到淡淡的果香。当你咬一口时，可以感受到它的甜味和脆度，让你感到非常满足。\n",
      "这个苹果是一个红色的，表面光滑，没有任何瑕疵。它的形状是圆形，大小适中，重量约为150克左右。当你拿起它时，可以感受到它的重量和坚实感，但并不沉重。它的外观非常吸引人，让人想要立刻咬一口。\n",
      "\n",
      "当你闻一闻它时，可以闻到淡淡的果香，这种香气非常清新，让人感到愉悦。当你仔细观察它时，可以看到它的表面有一些细微的凹凸，这些凹凸让它看起来更加自然，也更加有质感。\n",
      "\n",
      "当你咬一口时，可以感受到它的甜味和脆度，让你感到非常满足。它的果肉非常新鲜，口感非常好，让人感到非常愉悦。它的汁水也非常充足，让你的口腔充满了果汁的味道。\n",
      "\n",
      "总的来说，这个苹果是一个非常完美的水果，它的外观、味道和口感都非常出色，让人感到非常满足。\n",
      "This apple is red, with a smooth surface and no blemishes. It is round in shape, medium in size, and weighs about 150 grams. When you pick it up, you can feel its weight and solidity, but it is not heavy. Its appearance is very attractive, making you want to take a bite immediately.\n",
      "\n",
      "When you smell it, you can smell a faint fruity aroma, which is very refreshing and pleasant. When you look closely at it, you can see some fine bumps and depressions on its surface, which make it look more natural and textured.\n",
      "\n",
      "When you take a bite, you can feel its sweetness and crispness, which makes you feel very satisfied. Its flesh is very fresh and has a great texture, making you feel very happy. Its juice is also very abundant, filling your mouth with the taste of fruit.\n",
      "\n",
      "Overall, this apple is a perfect fruit, with excellent appearance, taste, and texture, making people feel very satisfied.\n"
     ]
    }
   ],
   "source": [
    "# 多次迭代\n",
    "user_message = \"\"\"\n",
    "描述一个苹果。\n",
    "\"\"\"\n",
    "\n",
    "messages = [\n",
    "    {'role': 'user',\n",
    "     'content': user_message}\n",
    "]\n",
    "\n",
    "response = get_completion_from_messages(messages)\n",
    "print(response)\n",
    "\n",
    "messages.append({'role': 'assistant', 'content': response})\n",
    "messages.append({'role': 'user', 'content': \"详细描述一个苹果。\"})\n",
    "\n",
    "response = get_completion_from_messages(messages)\n",
    "print(response)\n",
    "\n",
    "messages.append({'role': 'assistant', 'content': response})\n",
    "messages.append({'role': 'user', 'content': \"翻译成英语\"})\n",
    "\n",
    "response = get_completion_from_messages(messages)\n",
    "print(response)\n",
    "\n",
    "\n",
    "\n"
   ]
  },
  {
   "cell_type": "code",
   "execution_count": null,
   "id": "03ea034e-fc1c-45ee-b7da-af9cd78069e1",
   "metadata": {},
   "outputs": [],
   "source": []
  }
 ],
 "metadata": {
  "kernelspec": {
   "display_name": "Python 3 (ipykernel)",
   "language": "python",
   "name": "python3"
  },
  "language_info": {
   "codemirror_mode": {
    "name": "ipython",
    "version": 3
   },
   "file_extension": ".py",
   "mimetype": "text/x-python",
   "name": "python",
   "nbconvert_exporter": "python",
   "pygments_lexer": "ipython3",
   "version": "3.11.4"
  }
 },
 "nbformat": 4,
 "nbformat_minor": 5
}
